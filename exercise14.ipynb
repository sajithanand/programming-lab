{
 "cells": [
  {
   "cell_type": "code",
   "execution_count": 3,
   "metadata": {},
   "outputs": [
    {
     "name": "stdout",
     "output_type": "stream",
     "text": [
      "01.11.1999\n",
      "\n"
     ]
    }
   ],
   "source": [
    "#python program to retrieve all lines with a date in the form of one or two digits\n",
    "import re\n",
    "#open a file\n",
    "file=open(\"anand.txt\",\"r\")\n",
    "text=file.readlines()\n",
    "file.close()\n",
    "#searching the file content line by line:\n",
    "keyword=re.compile('\\d\\d?\\.\\d\\d?\\.\\d\\d')\n",
    "for line in text:\n",
    "    if keyword.search(line):\n",
    "        print(line)"
   ]
  },
  {
   "cell_type": "code",
   "execution_count": null,
   "metadata": {
    "collapsed": true
   },
   "outputs": [],
   "source": []
  }
 ],
 "metadata": {
  "kernelspec": {
   "display_name": "Python 3",
   "language": "python",
   "name": "python3"
  },
  "language_info": {
   "codemirror_mode": {
    "name": "ipython",
    "version": 3
   },
   "file_extension": ".py",
   "mimetype": "text/x-python",
   "name": "python",
   "nbconvert_exporter": "python",
   "pygments_lexer": "ipython3",
   "version": "3.6.9"
  }
 },
 "nbformat": 4,
 "nbformat_minor": 2
}

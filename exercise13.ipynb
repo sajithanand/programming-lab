{
 "cells": [
  {
   "cell_type": "code",
   "execution_count": 1,
   "metadata": {},
   "outputs": [
    {
     "name": "stdout",
     "output_type": "stream",
     "text": [
      "First number:4\n",
      "Second number:0\n",
      "Division by zero Error Occured\n"
     ]
    }
   ],
   "source": [
    "#python program to handle zerodivision error\n",
    "try:\n",
    "    a=int(input(\"First number:\"))\n",
    "    b=int(input(\"Second number:\"))\n",
    "    result=a/b\n",
    "    print(\"Result=\",result)\n",
    "except ZeroDivisionError:\n",
    "    print(\"Division by zero Error Occured\")"
   ]
  },
  {
   "cell_type": "code",
   "execution_count": 6,
   "metadata": {},
   "outputs": [
    {
     "name": "stdout",
     "output_type": "stream",
     "text": [
      "First number:3\n",
      "Second number:anand\n",
      "Error Occured\n"
     ]
    }
   ],
   "source": [
    "#python program to handle exceptions zerodivision error,value error\n",
    "try:\n",
    "    a=int(input(\"First number:\"))\n",
    "    b=int(input(\"Second number:\"))\n",
    "    result=a/b\n",
    "    print(\"Result=\",result)\n",
    "except (ZeroDivisionError,ValueError):\n",
    "    print(\"Error Occured\")"
   ]
  },
  {
   "cell_type": "code",
   "execution_count": 10,
   "metadata": {},
   "outputs": [
    {
     "name": "stdout",
     "output_type": "stream",
     "text": [
      "Enter a number:13\n",
      "This value is too large\n",
      "Enter a number:4\n",
      "This value is too small\n",
      "Enter a number:20\n",
      "This value is too large\n",
      "Enter a number:10\n",
      "You guessed it correct\n"
     ]
    }
   ],
   "source": [
    "class Error(Exception):\n",
    "    'Base class for other exception'\n",
    "    pass\n",
    "class ValueTooSmallError(Error):\n",
    "    pass\n",
    "class ValueTooLargeError(Error):\n",
    "    pass\n",
    "num=10\n",
    "while True:\n",
    "    try:\n",
    "        in_num=int(input(\"Enter a number:\"))\n",
    "        if in_num<num:\n",
    "            raise ValueTooSmallError\n",
    "        elif in_num>num:\n",
    "            raise ValueTooLargeError\n",
    "            \n",
    "        break\n",
    "    except ValueTooSmallError:\n",
    "        print(\"This value is too small\")\n",
    "    except ValueTooLargeError:\n",
    "          print(\"This value is too large\")   \n",
    "print(\"You guessed it correct\")"
   ]
  },
  {
   "cell_type": "code",
   "execution_count": 2,
   "metadata": {},
   "outputs": [
    {
     "name": "stdout",
     "output_type": "stream",
     "text": [
      "x should be 'hello'\n"
     ]
    }
   ],
   "source": [
    "x=\"hello\"\n",
    "try:\n",
    "    assert x==\"goodbye\",\"x should be 'hello'\"\n",
    "except AssertionError as args:\n",
    "    print(args)"
   ]
  },
  {
   "cell_type": "code",
   "execution_count": null,
   "metadata": {
    "collapsed": true
   },
   "outputs": [],
   "source": []
  }
 ],
 "metadata": {
  "kernelspec": {
   "display_name": "Python 3",
   "language": "python",
   "name": "python3"
  },
  "language_info": {
   "codemirror_mode": {
    "name": "ipython",
    "version": 3
   },
   "file_extension": ".py",
   "mimetype": "text/x-python",
   "name": "python",
   "nbconvert_exporter": "python",
   "pygments_lexer": "ipython3",
   "version": "3.6.9"
  }
 },
 "nbformat": 4,
 "nbformat_minor": 2
}

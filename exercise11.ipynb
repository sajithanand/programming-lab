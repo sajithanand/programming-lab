{
 "cells": [
  {
   "cell_type": "code",
   "execution_count": 1,
   "metadata": {},
   "outputs": [
    {
     "name": "stdout",
     "output_type": "stream",
     "text": [
      "Enter the source file to be copied:anand.txt\n",
      "Enter the destination file name:anan.txt\n",
      "File copied\n"
     ]
    }
   ],
   "source": [
    "#python program to copy a text file to another file\n",
    "file1=input(\"Enter the source file to be copied:\")\n",
    "file2=input(\"Enter the destination file name:\")\n",
    "fr=open(file1,\"r\")\n",
    "fw=open(file2,\"w\")\n",
    "for line in fr.readlines():\n",
    "    fw.write(line)\n",
    "fr.close()\n",
    "fw.close()\n",
    "print(\"File copied\")"
   ]
  },
  {
   "cell_type": "code",
   "execution_count": 2,
   "metadata": {},
   "outputs": [
    {
     "name": "stdout",
     "output_type": "stream",
     "text": [
      "Enter the source file to be copied:anand.txt\n",
      "Enter the destination file name:anan.txt\n",
      "File appended\n"
     ]
    }
   ],
   "source": [
    "#python program to append file with contents of another file\n",
    "file1=input(\"Enter the source file to be copied:\")\n",
    "file2=input(\"Enter the destination file name:\")\n",
    "fr=open(file1,\"r\")\n",
    "fw=open(file2,\"a\")\n",
    "for line in fr.readlines():\n",
    "    fw.write(line)\n",
    "fr.close()\n",
    "fw.close()\n",
    "print(\"File appended\")"
   ]
  },
  {
   "cell_type": "code",
   "execution_count": 4,
   "metadata": {},
   "outputs": [
    {
     "name": "stdout",
     "output_type": "stream",
     "text": [
      "Enter the file:anan.txt\n",
      "7\n"
     ]
    }
   ],
   "source": [
    "#python program to count and display the  no of lines in a file\n",
    "file=input(\"Enter the file:\")\n",
    "fr=open(file,\"r\")\n",
    "count=0\n",
    "for i in fr.readlines():\n",
    "    count=count+1\n",
    "    \n",
    "fr.close()\n",
    "print(count)\n",
    "\n"
   ]
  },
  {
   "cell_type": "code",
   "execution_count": 6,
   "metadata": {},
   "outputs": [
    {
     "name": "stdout",
     "output_type": "stream",
     "text": [
      "Enter the source file to be copied:anan.txt\n",
      "Enter the destination file name:odd.txt\n",
      "Odd lines copied:\n"
     ]
    }
   ],
   "source": [
    "#python program to copy odd lines\n",
    "file1=input(\"Enter the source file to be copied:\")\n",
    "file2=input(\"Enter the destination file name:\")\n",
    "fr=open(file1,\"r\")\n",
    "fw=open(file2,\"w\")\n",
    "i=0\n",
    "for l  in fr.readlines():\n",
    "    i+=1\n",
    "    if i%2==0:\n",
    "        continue\n",
    "    fw.write(l)\n",
    "fr.close()\n",
    "fw.close()\n",
    "print(\"Odd lines copied:\")"
   ]
  },
  {
   "cell_type": "markdown",
   "metadata": {},
   "source": []
  },
  {
   "cell_type": "code",
   "execution_count": 9,
   "metadata": {},
   "outputs": [
    {
     "name": "stdout",
     "output_type": "stream",
     "text": [
      "enter id:1\n",
      "enter name:anand\n",
      "enter DOB:21-11-2001\n",
      "eneter salary1000\n",
      "enter id:2\n",
      "enter name:junaid\n",
      "enter DOB:10-09-1995\n",
      "eneter salary20000\n",
      "enter id:3\n",
      "enter name:midhun\n",
      "enter DOB:23-10-2000\n",
      "eneter salary30000\n",
      "['empid', 'empname', 'DOB', 'salary']\n",
      "['1', 'anand', '21-11-2001', '1000']\n",
      "['2', 'junaid', '10-09-1995', '20000']\n",
      "['3', 'midhun', '23-10-2000', '30000']\n"
     ]
    }
   ],
   "source": [
    "#python program to write dict to a csv file\n",
    "import csv\n",
    "with open(\"my1.csv\",\"w\") as f:\n",
    "    fnames=['empid','empname','DOB','salary']\n",
    "    writer=csv.DictWriter(f,fieldnames=fnames)\n",
    "    writer.writeheader()\n",
    "    for i in range(3):\n",
    "        writer.writerow({\"empid\":input(\"enter id:\"),\"empname\":input(\"enter name:\"),\"DOB\":input(\"enter dob:\"),\"Salary\":input(\"enter Salary:\")})\n",
    "\n",
    "with open(\"my1.csv\",\"r\")as file:\n",
    "    read=csv.reader(file)\n",
    "    for row in read:\n",
    "        print(row)"
   ]
  },
  {
   "cell_type": "code",
   "execution_count": 13,
   "metadata": {},
   "outputs": [
    {
     "name": "stdout",
     "output_type": "stream",
     "text": [
      "['empid', 'empname', 'DOB', 'salary']\n",
      "['1', 'anand', '21-11-2001', '1000']\n",
      "['2', 'junaid', '10-09-1995', '20000']\n",
      "['3', 'midhun', '23-10-2000', '30000']\n"
     ]
    }
   ],
   "source": [
    "#program to read each row from file csv,print\n",
    "import csv\n",
    "with open(\"my1.csv\",\"r\")as file:\n",
    "    read=csv.reader(file)\n",
    "    for row in read:\n",
    "        print(row)"
   ]
  },
  {
   "cell_type": "code",
   "execution_count": 1,
   "metadata": {},
   "outputs": [
    {
     "name": "stdout",
     "output_type": "stream",
     "text": [
      "Enter csv file name : dprt.csv\n",
      "Enter the no.of department : 5\n",
      "------------------------\n",
      "Enter the details of 1th department\n",
      "\n",
      "enter dptid:113\n",
      "enter department name:MCA\n",
      "enter no.of employees:4\n",
      "enter Location:kallanthode\n",
      "------------------------\n",
      "Enter the details of 2th department\n",
      "\n",
      "enter dptid:153\n",
      "enter department name:MBA\n",
      "enter no.of employees:6\n",
      "enter Location:kallanthode\n",
      "------------------------\n",
      "Enter the details of 3th department\n",
      "\n",
      "enter dptid:164\n",
      "enter department name:EEE\n",
      "enter no.of employees:10\n",
      "enter Location:kallanthode\n",
      "------------------------\n",
      "Enter the details of 4th department\n",
      "\n",
      "enter dptid:132\n",
      "enter department name:MECH\n",
      "enter no.of employees:8\n",
      "enter Location:kallanthode\n",
      "------------------------\n",
      "Enter the details of 5th department\n",
      "\n",
      "enter dptid:178\n",
      "enter department name:CS\n",
      "enter no.of employees:4\n",
      "enter Location:kallanthode\n",
      "---------------------\n",
      "Department Id and Department Name are given below \n",
      "113 MCA\n",
      "153 MBA\n",
      "164 EEE\n",
      "132 MECH\n",
      "178 CS\n"
     ]
    }
   ],
   "source": [
    "#python program to write department csv,and print the contents specified columns\n",
    "import csv\n",
    "file=input(\"Enter csv file name : \")\n",
    "with open(file,\"w\",newline=\"\") as f:\n",
    "    fnames=['dptid','dptname','Totalemployees','Location']\n",
    "    writer=csv.DictWriter(f,fieldnames=fnames)\n",
    "    writer.writeheader()\n",
    "    n=int(input(\"Enter the no.of department : \"))\n",
    "    for i in range(n):\n",
    "        print(\"------------------------\")\n",
    "        print(\"Enter the details of \"+str(i+1)+\"th department\\n\")\n",
    "            \n",
    "        writer.writerow({\"dptid\":input(\"enter dptid:\"),\"dptname\":input(\"enter department name:\"),\"Totalemployees\":input(\"enter no.of employees:\"),\"Location\":input(\"enter Location:\")})\n",
    "print(\"---------------------\")        \n",
    "with open(file,\"r\") as f:\n",
    "    reader=csv.DictReader(f)\n",
    "    print(\"Department Id and Department Name are given below \")\n",
    "    for i in reader:\n",
    "        print(i[\"dptid\"],i[\"dptname\"])\n",
    "        "
   ]
  },
  {
   "cell_type": "code",
   "execution_count": null,
   "metadata": {
    "collapsed": true
   },
   "outputs": [],
   "source": []
  }
 ],
 "metadata": {
  "kernelspec": {
   "display_name": "Python 3",
   "language": "python",
   "name": "python3"
  },
  "language_info": {
   "codemirror_mode": {
    "name": "ipython",
    "version": 3
   },
   "file_extension": ".py",
   "mimetype": "text/x-python",
   "name": "python",
   "nbconvert_exporter": "python",
   "pygments_lexer": "ipython3",
   "version": "3.6.9"
  }
 },
 "nbformat": 4,
 "nbformat_minor": 2
}

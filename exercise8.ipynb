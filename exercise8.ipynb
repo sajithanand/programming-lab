{
 "cells": [
  {
   "cell_type": "code",
   "execution_count": 2,
   "metadata": {},
   "outputs": [
    {
     "name": "stdout",
     "output_type": "stream",
     "text": [
      "enter 1st number:3\n",
      "enter 2nd number:3\n",
      "enter 3rd number:3\n",
      "the number are equal and thrice their sum= 27\n"
     ]
    }
   ],
   "source": [
    "#python program to calculate the sum of 3 given no,if the value are equal then return thrice their sum\n",
    "\n",
    "def sum(a,b,c):\n",
    "    if(a==b==c):\n",
    "        s=3*(a+b+c)\n",
    "        print(\"the number are equal and thrice their sum=\",s)\n",
    "    else:\n",
    "        s=a+b+c\n",
    "        print(\"the number are not equal and their sum=\",s)\n",
    "a=int(input(\"enter 1st number:\"))\n",
    "b=int(input(\"enter 2nd number:\"))\n",
    "c=int(input(\"enter 3rd number:\"))\n",
    "sum(a,b,c);"
   ]
  },
  {
   "cell_type": "code",
   "execution_count": 3,
   "metadata": {},
   "outputs": [
    {
     "name": "stdout",
     "output_type": "stream",
     "text": [
      "enter a number:444\n",
      "sum of digits= 12\n"
     ]
    }
   ],
   "source": [
    "#python program to find the sum of digits of a number\n",
    "def sum(n):\n",
    "    sum=0\n",
    "    while(n!=0):\n",
    "        sum=sum+int(n%10)\n",
    "        n=n/10\n",
    "    print(\"sum of digits=\",sum)\n",
    "num=int(input(\"enter a number:\"))\n",
    "sum(num);"
   ]
  },
  {
   "cell_type": "code",
   "execution_count": 8,
   "metadata": {},
   "outputs": [
    {
     "name": "stdout",
     "output_type": "stream",
     "text": [
      "enter a string:AnAnD s\n",
      "upper case letter= 3\n",
      "lower case letter= 3\n"
     ]
    }
   ],
   "source": [
    "#pyton program to calculate the no upper and lower cases of a number\n",
    "def str(s):\n",
    "    u=l=0\n",
    "    for i in s:\n",
    "        if i.isupper()==1:\n",
    "            u=u+1\n",
    "        if i.islower()==1:        \n",
    "            l=l+1\n",
    "    print(\"upper case letter=\",u)\n",
    "    print(\"lower case letter=\",l)\n",
    "string=input(\"enter a string:\")\n",
    "str(string)\n",
    "    \n"
   ]
  },
  {
   "cell_type": "code",
   "execution_count": 5,
   "metadata": {},
   "outputs": [
    {
     "name": "stdout",
     "output_type": "stream",
     "text": [
      "enter a number:11\n",
      "11 is a prime number\n"
     ]
    }
   ],
   "source": [
    "#python program to check whether a number is prime or not\n",
    "def prime(n):\n",
    "    if n>1:\n",
    "        for i in range(2,int(n/2)+1):\n",
    "            if(n%1)==0:\n",
    "                print(n,\"is a prime number\")\n",
    "                break\n",
    "            else:\n",
    "                print(n,\"is a prime number\")\n",
    "    else:\n",
    "        print(n,\"is not a prime number\")\n",
    "num=int(input(\"enter a number:\"))\n",
    "prime(num)"
   ]
  },
  {
   "cell_type": "code",
   "execution_count": 14,
   "metadata": {},
   "outputs": [
    {
     "name": "stdout",
     "output_type": "stream",
     "text": [
      "enter current year:2001\n",
      "enter limit of years:2050\n",
      "the leap years in the range are:\n",
      "2004 , 2008 , 2012 , 2016 , 2020 , 2024 , 2028 , 2032 , 2036 , 2040 , 2044 , 2048 , "
     ]
    }
   ],
   "source": [
    "#python program to find leap years in a range\n",
    "a=int(input(\"enter current year:\"))\n",
    "b=int(input(\"enter limit of years:\"))\n",
    "def leap(l,u):\n",
    "        for i in range(l,u+1):\n",
    "            if i%4==0:\n",
    "                if i%100==0:\n",
    "                    if i%400==0:\n",
    "                        print(i,\",\",end=\" \")\n",
    "                print(i,\",\",end=\" \")\n",
    "print(\"the leap years in the range are:\")\n",
    "leap(a,b)\n"
   ]
  },
  {
   "cell_type": "code",
   "execution_count": 1,
   "metadata": {},
   "outputs": [
    {
     "name": "stdout",
     "output_type": "stream",
     "text": [
      "enter the no of employees:2\n",
      "enter the name of employee:sanan\n",
      "enter salary of employee:6000\n",
      "the inputed employee name is sanan and his salary is 6000\n",
      "enter the name of employee:midhun\n",
      "enter salary of employee:4000\n",
      "the inputed employee name is midhun and his salary is 8000\n"
     ]
    }
   ],
   "source": [
    "#python program to show employee name and salary\n",
    "def showemployee(empname,sal=8000):\n",
    "    print(\"the inputed employee name is\",empname,\"and his salary is\",sal)\n",
    "n=int(input(\"enter the no of employees:\"))\n",
    "for i in range(n):\n",
    "    name=input(\"enter the name of employee:\")\n",
    "    salary=int(input(\"enter salary of employee:\"))\n",
    "    if salary<=5000:\n",
    "        showemployee(name)\n",
    "    else:\n",
    "        showemployee(name,salary)\n",
    "    "
   ]
  },
  {
   "cell_type": "code",
   "execution_count": 9,
   "metadata": {},
   "outputs": [
    {
     "name": "stdout",
     "output_type": "stream",
     "text": [
      "enter the no of values:3\n",
      "enter value: 4\n",
      "enter value: 5\n",
      "enter value: 6\n",
      "minimum of entered items: 4\n"
     ]
    }
   ],
   "source": [
    "#python program for minimum argument values\n",
    "l=[]\n",
    "def minvalue(*tup):\n",
    "    \n",
    "    print(\"minimum of entered items:\",min(tup))\n",
    "    \n",
    "n=int(input(\"enter the no of values:\"))\n",
    "i=0\n",
    "for i in range(n):\n",
    "    k=int(input(\"enter value: \"))\n",
    "    l.append(k)\n",
    "x=tuple(l)\n",
    "minvalue(*x)\n",
    "    "
   ]
  },
  {
   "cell_type": "code",
   "execution_count": 13,
   "metadata": {},
   "outputs": [
    {
     "name": "stdout",
     "output_type": "stream",
     "text": [
      "enter number of persons:2\n",
      "details of person: 1\n",
      "enter number of information to be provided:2\n",
      "enter any type of info:name\n",
      "enter its value:anand\n",
      "enter any type of info:age\n",
      "enter its value:22\n",
      "{'name': 'anand', 'age': '22'}\n",
      "\n",
      "\n",
      "details of person: 2\n",
      "enter number of information to be provided:3\n",
      "enter any type of info:name\n",
      "enter its value:midhun\n",
      "enter any type of info:age\n",
      "enter its value:18\n",
      "enter any type of info:class\n",
      "enter its value:mca\n",
      "{'name': 'midhun', 'age': '18', 'class': 'mca'}\n",
      "\n",
      "\n"
     ]
    }
   ],
   "source": [
    "#python program to display the user information\n",
    "def uinfo(**d1):\n",
    "    print(d1)\n",
    "    d.clear()\n",
    "    print(\"\\n\")\n",
    "    \n",
    "d={}\n",
    "n=int(input(\"enter number of persons:\"))\n",
    "for i in range(n):\n",
    "    print(\"details of person:\",i+1)\n",
    "    n2=int(input(\"enter number of information to be provided:\"))\n",
    "    for j in range(n2):\n",
    "        key=input(\"enter any type of info:\")\n",
    "        val=input(\"enter its value:\")\n",
    "        d.update({key:val})\n",
    "    uinfo(**d)"
   ]
  },
  {
   "cell_type": "code",
   "execution_count": null,
   "metadata": {
    "collapsed": true
   },
   "outputs": [],
   "source": []
  }
 ],
 "metadata": {
  "kernelspec": {
   "display_name": "Python 3",
   "language": "python",
   "name": "python3"
  },
  "language_info": {
   "codemirror_mode": {
    "name": "ipython",
    "version": 3
   },
   "file_extension": ".py",
   "mimetype": "text/x-python",
   "name": "python",
   "nbconvert_exporter": "python",
   "pygments_lexer": "ipython3",
   "version": "3.6.9"
  }
 },
 "nbformat": 4,
 "nbformat_minor": 2
}

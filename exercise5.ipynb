{
 "cells": [
  {
   "cell_type": "code",
   "execution_count": 1,
   "metadata": {},
   "outputs": [
    {
     "name": "stdout",
     "output_type": "stream",
     "text": [
      "enter coma separated sequence of numbers:1,2,3,4,5\n",
      "result is: ['1', '2', '3', '4', '5']\n"
     ]
    }
   ],
   "source": [
    "#coma separated numbers to list\n",
    "str=input(\"enter coma separated sequence of numbers:\")\n",
    "x=str.split(\",\")\n",
    "print(\"result is:\",x)"
   ]
  },
  {
   "cell_type": "code",
   "execution_count": 2,
   "metadata": {},
   "outputs": [
    {
     "name": "stdout",
     "output_type": "stream",
     "text": [
      "enter some coma separated list of colors:red,blue,green,violet,orange\n",
      "the first element is: red\n",
      "the last element is: orange\n"
     ]
    }
   ],
   "source": [
    "#coma separated colors to string\n",
    "clr=input(\"enter some coma separated list of colors:\")\n",
    "res=clr.split(\",\")\n",
    "print(\"the first element is:\",res[0])\n",
    "print(\"the last element is:\",res[-1])"
   ]
  },
  {
   "cell_type": "code",
   "execution_count": 3,
   "metadata": {},
   "outputs": [
    {
     "name": "stdout",
     "output_type": "stream",
     "text": [
      "enter a file with extension:area.python\n",
      "the extension of entered file: python\n"
     ]
    }
   ],
   "source": [
    "#to print extention of a file\n",
    "f=input(\"enter a file with extension:\")\n",
    "x=f.split(\".\")\n",
    "print(\"the extension of entered file:\",x[-1])"
   ]
  },
  {
   "cell_type": "code",
   "execution_count": null,
   "metadata": {
    "collapsed": true
   },
   "outputs": [],
   "source": []
  }
 ],
 "metadata": {
  "kernelspec": {
   "display_name": "Python 3",
   "language": "python",
   "name": "python3"
  },
  "language_info": {
   "codemirror_mode": {
    "name": "ipython",
    "version": 3
   },
   "file_extension": ".py",
   "mimetype": "text/x-python",
   "name": "python",
   "nbconvert_exporter": "python",
   "pygments_lexer": "ipython3",
   "version": "3.6.9"
  }
 },
 "nbformat": 4,
 "nbformat_minor": 2
}

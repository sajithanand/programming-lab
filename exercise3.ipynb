{
 "cells": [
  {
   "cell_type": "code",
   "execution_count": 1,
   "metadata": {},
   "outputs": [
    {
     "name": "stdout",
     "output_type": "stream",
     "text": [
      "enter the temperature in celsius:52\n",
      "temperature in fahrenheat:125.6\n"
     ]
    }
   ],
   "source": [
    "#python program to convert celsius to fahrenheit\n",
    "n=int(input(\"enter the temperature in celsius:\"))\n",
    "f=(n*9/5)+32\n",
    "print(\"temperature in fahrenheat:\"+str(f))"
   ]
  },
  {
   "cell_type": "code",
   "execution_count": 1,
   "metadata": {},
   "outputs": [
    {
     "name": "stdout",
     "output_type": "stream",
     "text": [
      "enter the distance in kliometers:40\n",
      "km is equivalent to miles: 24.854799999999997\n"
     ]
    }
   ],
   "source": [
    "#python program to convert kilometers into miles\n",
    "km=int(input(\"enter the distance in kliometers:\"))\n",
    "mvalue=km*0.62137\n",
    "print(\"km is equivalent to miles:\",mvalue)\n",
    "\n",
    "\n"
   ]
  },
  {
   "cell_type": "code",
   "execution_count": 10,
   "metadata": {},
   "outputs": [
    {
     "name": "stdout",
     "output_type": "stream",
     "text": [
      "enter the first number:12\n",
      "enter the second number:15\n",
      "enter the third number:19\n",
      "maximum number is: 19\n"
     ]
    }
   ],
   "source": [
    "#python programme to find the biggest of three numbers\n",
    "n1=int(input(\"enter the first number:\"))\n",
    "n2=int(input(\"enter the second number:\"))\n",
    "n3=int(input(\"enter the third number:\"))\n",
    "print(\"maximum number is:\",max(n1,n2,n3))"
   ]
  },
  {
   "cell_type": "code",
   "execution_count": 3,
   "metadata": {},
   "outputs": [
    {
     "data": {
      "text/plain": [
       "0"
      ]
     },
     "execution_count": 3,
     "metadata": {},
     "output_type": "execute_result"
    }
   ],
   "source": [
    "\n"
   ]
  },
  {
   "cell_type": "code",
   "execution_count": null,
   "metadata": {
    "collapsed": true
   },
   "outputs": [],
   "source": []
  }
 ],
 "metadata": {
  "kernelspec": {
   "display_name": "Python 3",
   "language": "python",
   "name": "python3"
  },
  "language_info": {
   "codemirror_mode": {
    "name": "ipython",
    "version": 3
   },
   "file_extension": ".py",
   "mimetype": "text/x-python",
   "name": "python",
   "nbconvert_exporter": "python",
   "pygments_lexer": "ipython3",
   "version": "3.6.9"
  }
 },
 "nbformat": 4,
 "nbformat_minor": 2
}

{
 "cells": [
  {
   "cell_type": "code",
   "execution_count": 2,
   "metadata": {},
   "outputs": [
    {
     "name": "stdout",
     "output_type": "stream",
     "text": [
      "\n",
      "1.RECTANGLE\n",
      "2.CIRCLE\n",
      "3.EXIT\n",
      "enter any option:1\n",
      "enter the length of rectangle:5\n",
      "enter the breadth of rectangle:6\n",
      "area of the rectangle: 30\n",
      "perimeter of the rectangle: 22\n",
      "\n",
      "1.RECTANGLE\n",
      "2.CIRCLE\n",
      "3.EXIT\n",
      "enter any option:2\n",
      "enter radius of circle:3\n",
      "area of circle: 28.259999999999998\n",
      "perimeter of circle: 18.84\n",
      "\n",
      "1.RECTANGLE\n",
      "2.CIRCLE\n",
      "3.EXIT\n",
      "enter any option:3\n",
      "Exiting...\n"
     ]
    }
   ],
   "source": [
    "#python program to find the area,perimeter of circle and rectangle by modules\n",
    "from modrect import *\n",
    "from modcircle import *\n",
    "while(1):\n",
    "    print(\"\\n1.RECTANGLE\\n2.CIRCLE\\n3.EXIT\")\n",
    "    ch=int(input(\"enter any option:\"))\n",
    "    if ch==1:\n",
    "        l=int(input(\"enter the length of rectangle:\"))\n",
    "        b=int(input(\"enter the breadth of rectangle:\"))\n",
    "        rarea=rectarea(l,b)\n",
    "        print(\"area of the rectangle:\",rarea)\n",
    "        rperimeter=rectperi(l,b)\n",
    "        print(\"perimeter of the rectangle:\",rperimeter)\n",
    "    elif ch==2:    \n",
    "        r=int(input(\"enter radius of circle:\"))\n",
    "        carea=cirarea(r)\n",
    "        print(\"area of circle:\",carea)\n",
    "        cperimeter=cirperi(r)\n",
    "        print(\"perimeter of circle:\",cperimeter)\n",
    "    else:\n",
    "        print(\"Exiting...\")\n",
    "        break"
   ]
  },
  {
   "cell_type": "code",
   "execution_count": 4,
   "metadata": {},
   "outputs": [
    {
     "name": "stdout",
     "output_type": "stream",
     "text": [
      "\n",
      "1.RECTANGLE\n",
      "2.CIRCLE\n",
      "3.SPHERE\n",
      "4.CUBOID\n",
      "5.exit\n",
      "enter any option:1\n",
      "enter the length of rectangle:5\n",
      "enter the breadth of rectangle:6\n",
      "area of the rectangle: 30\n",
      "perimeter of the rectangle: 22\n",
      "\n",
      "1.RECTANGLE\n",
      "2.CIRCLE\n",
      "3.SPHERE\n",
      "4.CUBOID\n",
      "5.exit\n",
      "enter any option:2\n",
      "enter radius of circle:3\n",
      "area of circle: 28.259999999999998\n",
      "perimeter of circle: 18.84\n",
      "\n",
      "1.RECTANGLE\n",
      "2.CIRCLE\n",
      "3.SPHERE\n",
      "4.CUBOID\n",
      "5.exit\n",
      "enter any option:3\n",
      "enter radius of sphere:5\n",
      "area of sphere: 314.1592653589793\n",
      "circumference of sphere: 31.41592653589793\n",
      "\n",
      "1.RECTANGLE\n",
      "2.CIRCLE\n",
      "3.SPHERE\n",
      "4.CUBOID\n",
      "5.exit\n",
      "enter any option:4\n",
      "enter the length of cuboid:9\n",
      "enter the breadth of cuboid:8\n",
      "enter the height of cuboid7\n",
      "Area of cuboid: [191, 191]\n",
      "Perimeter of cuboid: 96\n",
      "\n",
      "1.RECTANGLE\n",
      "2.CIRCLE\n",
      "3.SPHERE\n",
      "4.CUBOID\n",
      "5.exit\n",
      "enter any option:5\n",
      "EXITING....\n"
     ]
    }
   ],
   "source": [
    "#python program to create package\n",
    "from Graphics.rectangle import *\n",
    "from Graphics.Circle import *\n",
    "from Graphics.Graphics3D.Sphere import *\n",
    "from Graphics.Graphics3D.Cuboid import *\n",
    "while(1):\n",
    "    print(\"\\n1.RECTANGLE\\n2.CIRCLE\\n3.SPHERE\\n4.CUBOID\\n5.exit\")\n",
    "    ch=int(input(\"enter any option:\"))\n",
    "    if ch==1:\n",
    "        l=int(input(\"enter the length of rectangle:\"))\n",
    "        b=int(input(\"enter the breadth of rectangle:\"))\n",
    "        rarea=rectarea(l,b)\n",
    "        print(\"area of the rectangle:\",rarea)\n",
    "        rperimeter=rectperi(l,b)\n",
    "        print(\"perimeter of the rectangle:\",rperimeter)\n",
    "    elif ch==2:\n",
    "        r=int(input(\"enter radius of circle:\"))\n",
    "        carea=cirarea(r)\n",
    "        print(\"area of circle:\",carea)\n",
    "        cperimeter=cirperi(r)\n",
    "        print(\"perimeter of circle:\",cperimeter)\n",
    "    elif ch==3:\n",
    "        r=int(input(\"enter radius of sphere:\"))\n",
    "        sarea=spherearea(r)\n",
    "        print(\"area of sphere:\",sarea)\n",
    "        circum=spherecir(r)\n",
    "        print(\"circumference of sphere:\",circum)\n",
    "    elif ch==4:\n",
    "        l=int(input(\"enter the length of cuboid:\"))\n",
    "        b=int(input(\"enter the breadth of cuboid:\"))\n",
    "        h=int(input(\"enter the height of cuboid\"))\n",
    "        cubarea=cubarea(l,b,h)\n",
    "        print(\"Area of cuboid:\",cubarea)\n",
    "        cubperimtr=cubperi(l,b,h)\n",
    "        print(\"Perimeter of cuboid:\",cubperimtr)\n",
    "    else:\n",
    "        print(\"EXITING....\")\n",
    "        break\n",
    "        \n",
    "        \n",
    "\n"
   ]
  },
  {
   "cell_type": "code",
   "execution_count": 2,
   "metadata": {},
   "outputs": [
    {
     "name": "stdout",
     "output_type": "stream",
     "text": [
      "date of yestarday: 2022-01-18\n",
      "date of today 2022-01-19\n",
      "date of tomorrow 2022-01-20\n"
     ]
    }
   ],
   "source": [
    "#python program to find yestarday,today and tom0rrow dates\n",
    "from datetime import datetime,timedelta\n",
    "td=datetime.now()\n",
    "yd=td-timedelta(days=1)\n",
    "tm=td+timedelta(days=1)\n",
    "print(\"date of yestarday:\",yd.date())\n",
    "print(\"date of today\",td.date())\n",
    "print(\"date of tomorrow\",tm.date())\n",
    "\n"
   ]
  },
  {
   "cell_type": "code",
   "execution_count": 4,
   "metadata": {},
   "outputs": [
    {
     "name": "stdout",
     "output_type": "stream",
     "text": [
      "todays date 2022-01-19\n",
      "date before 5 days: 2022-01-14\n"
     ]
    }
   ],
   "source": [
    "#python programe to find date before 5 days\n",
    "from datetime import datetime,timedelta\n",
    "td=datetime.now()\n",
    "print(\"todays date\",td.date())\n",
    "d5=td-timedelta(days=5)\n",
    "print(\"date before 5 days:\",d5.date())"
   ]
  },
  {
   "cell_type": "code",
   "execution_count": 7,
   "metadata": {},
   "outputs": [
    {
     "name": "stdout",
     "output_type": "stream",
     "text": [
      "days 1 : 2022-01-19\n",
      "days 2 : 2022-01-20\n",
      "days 3 : 2022-01-21\n",
      "days 4 : 2022-01-22\n",
      "days 5 : 2022-01-23\n"
     ]
    }
   ],
   "source": [
    "#python program to find date after 5 days\n",
    "from datetime import datetime,timedelta\n",
    "\n",
    "td=datetime.now()\n",
    "#td=datetime.date.today()\n",
    "for i in range(0,5):\n",
    "    fd=td+timedelta(days=i)\n",
    "    print(\"days\",i+1,\":\",fd.date())"
   ]
  },
  {
   "cell_type": "code",
   "execution_count": 6,
   "metadata": {},
   "outputs": [
    {
     "name": "stdout",
     "output_type": "stream",
     "text": [
      "enter date1(yyyy-mm-dd): 1999-12-10\n",
      "1999-12-10\n",
      "enter date2(yyyy-mm-dd): 1999-12-30\n",
      "1999-12-30\n",
      "the number of days between entered dates: 20\n"
     ]
    }
   ],
   "source": [
    "#python programe to get days between 2 given days\n",
    "from datetime import datetime,timedelta\n",
    "\n",
    "strdate1=str(input('enter date1(yyyy-mm-dd): '))\n",
    "\n",
    "ddate1=datetime.strptime(strdate1,\"%Y-%m-%d\")\n",
    "\n",
    "print(ddate1.date())\n",
    "\n",
    "strdate2=str(input('enter date2(yyyy-mm-dd): '))\n",
    "ddate2=datetime.strptime(strdate2,\"%Y-%m-%d\") \n",
    "\n",
    "print(ddate2.date())\n",
    "\n",
    "d3=ddate2-ddate1\n",
    "print(\"the number of days between entered dates:\",d3.days)"
   ]
  },
  {
   "cell_type": "code",
   "execution_count": null,
   "metadata": {
    "collapsed": true
   },
   "outputs": [],
   "source": []
  }
 ],
 "metadata": {
  "kernelspec": {
   "display_name": "Python 3",
   "language": "python",
   "name": "python3"
  },
  "language_info": {
   "codemirror_mode": {
    "name": "ipython",
    "version": 3
   },
   "file_extension": ".py",
   "mimetype": "text/x-python",
   "name": "python",
   "nbconvert_exporter": "python",
   "pygments_lexer": "ipython3",
   "version": "3.6.9"
  }
 },
 "nbformat": 4,
 "nbformat_minor": 2
}

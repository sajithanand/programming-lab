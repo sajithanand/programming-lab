{
 "cells": [
  {
   "cell_type": "code",
   "execution_count": 5,
   "id": "844fde60",
   "metadata": {},
   "outputs": [
    {
     "name": "stdout",
     "output_type": "stream",
     "text": [
      "enter roll no:6\n",
      "enter name:anand\n",
      "enter class:12\n",
      "\n",
      "student Details: 6 anand 12\n"
     ]
    }
   ],
   "source": [
    "#define a class student and include rollno,name,class.write methods to assign initial values and display student details\n",
    "class student():\n",
    "    def getstd(self,r,n,c):\n",
    "        self.rno=r\n",
    "        self.name=n\n",
    "        self.cls=c\n",
    "    def details(self):\n",
    "        print(\"\\nstudent Details:\",self.rno,self.name,self.cls)\n",
    "        \n",
    "newstudent=student()\n",
    "rno=int(input(\"enter roll no:\"))\n",
    "name=str(input(\"enter name:\"))\n",
    "cls=int(input(\"enter class:\"))\n",
    "\n",
    "newstudent.getstd(rno,name,cls)\n",
    "newstudent.details()\n",
    "    "
   ]
  },
  {
   "cell_type": "code",
   "execution_count": 8,
   "id": "b96dc887",
   "metadata": {},
   "outputs": [
    {
     "name": "stdout",
     "output_type": "stream",
     "text": [
      "enter rollno:3\n",
      "enter name:anand\n",
      "enter class:11\n",
      "\n",
      "student details: 3 anand 11\n"
     ]
    }
   ],
   "source": [
    "#using constructor\n",
    "class student():\n",
    "    def __init__(self,r,n,c):\n",
    "        self.rno=r\n",
    "        self.name=n\n",
    "        self.cls=c\n",
    "        \n",
    "    def details(self):\n",
    "        print(\"\\nstudent details:\",self.rno,self.name,self.cls)\n",
    "        \n",
    "rno=int(input(\"enter rollno:\"))\n",
    "name=str(input(\"enter name:\"))\n",
    "cls=int(input(\"enter class:\"))\n",
    "\n",
    "newstudent=student(rno,name,cls)\n",
    "newstudent.details()"
   ]
  },
  {
   "cell_type": "code",
   "execution_count": 11,
   "id": "239db604",
   "metadata": {},
   "outputs": [
    {
     "name": "stdout",
     "output_type": "stream",
     "text": [
      "enter length of Rectangle1:4\n",
      "enter breadth of Rectangle1:5\n",
      "enter length of Rectangle2:6\n",
      "enter breadth of Rectangle2:7\n",
      "\n",
      "area of rectangle1: 20\n",
      "perimeter of rectangle1: 18\n",
      "\n",
      "area of rectangle2: 42\n",
      "perimeter of rectangle1: 26\n",
      "\n",
      "Rectangle2 is greater\n"
     ]
    }
   ],
   "source": [
    "#create a rectangle class with atrributes length and breadth and find area and perimeter.compare two rectangles area\n",
    "class rectangle():\n",
    "    def getrect(self,l,b):\n",
    "        self.length=l\n",
    "        self.breadth=b\n",
    "    \n",
    "    def area(self):\n",
    "        return self.length*self.breadth\n",
    "    \n",
    "    def perimeter(self):\n",
    "        return 2*(self.length+self.breadth)\n",
    "    \n",
    "Rect1=rectangle()\n",
    "Rect2=rectangle()\n",
    "\n",
    "l1=int(input(\"enter length of Rectangle1:\"))\n",
    "b1=int(input(\"enter breadth of Rectangle1:\"))\n",
    "l2=int(input(\"enter length of Rectangle2:\"))\n",
    "b2=int(input(\"enter breadth of Rectangle2:\"))\n",
    "\n",
    "Rect1.getrect(l1,b1)\n",
    "Rect2.getrect(l2,b2)\n",
    "\n",
    "print(\"\\narea of rectangle1:\",Rect1.area())\n",
    "print(\"perimeter of rectangle1:\",Rect1.perimeter())\n",
    "print(\"\\narea of rectangle2:\",Rect2.area())\n",
    "print(\"perimeter of rectangle1:\",Rect2.perimeter())\n",
    "\n",
    "r1=Rect1.area()\n",
    "r2=Rect2.area()\n",
    "\n",
    "if(r1>r2):\n",
    "    print(\"\\nRectangle1 is greater \")\n",
    "else:\n",
    "    print(\"\\nRectangle2 is greater\")"
   ]
  },
  {
   "cell_type": "code",
   "execution_count": 15,
   "id": "5dc75626",
   "metadata": {},
   "outputs": [
    {
     "ename": "SyntaxError",
     "evalue": "invalid syntax (Temp/ipykernel_14212/1728110952.py, line 27)",
     "output_type": "error",
     "traceback": [
      "\u001b[1;36m  File \u001b[1;32m\"C:\\Users\\Anirudh\\AppData\\Local\\Temp/ipykernel_14212/1728110952.py\"\u001b[1;36m, line \u001b[1;32m27\u001b[0m\n\u001b[1;33m    if ch==1:\u001b[0m\n\u001b[1;37m            ^\u001b[0m\n\u001b[1;31mSyntaxError\u001b[0m\u001b[1;31m:\u001b[0m invalid syntax\n"
     ]
    }
   ],
   "source": [
    "#python programe to write constructor and methods to deposit at the bank and withdraw an amount from the bank\n",
    "class bankaccount:\n",
    "    def __init__(self,accno,name,typ,bal):\n",
    "        self.accnum=accno\n",
    "        self.nm=name\n",
    "        self.ty=typ\n",
    "        self.ba=bal\n",
    "        \n",
    "    def deposit(self,damnt):\n",
    "        self.ba=self.ba+damnt\n",
    "        print(\"SUCCESSFULLY DEPOSITED MONEY...,Your current balance is \",self.ba)\n",
    "        \n",
    "    def withdraw(self,wamnt):\n",
    "        self.ba=self.ba-wamnt\n",
    "        print(\"SUCCESSFULLY DEBITED MONEY...,Your current balance is \",self.ba)\n",
    "  \n",
    "an=int(input(\"Enter account number: \"))\n",
    "na=input(\"Enter name: \")\n",
    "t=input(\"Enter account type: \")\n",
    "ba=int(input(\"Enter first deposit(min-500):\"))\n",
    "p1=bankaccount(an,na,t,ba)\n",
    "\n",
    "while(1):\n",
    " \n",
    "        \n",
    "         ch=int(input(\"If you want to withdraw press 1 ,deposite press 2 ,unless any key.\")\n",
    "         if ch==1:\n",
    "                 wamount=int(input(\"Enter amount to debit..\"))\n",
    "                 if p1.ba<wamount+500:\n",
    "                                 print(\"sorry You dont have enough balance to debit...\")\n",
    "                 else:\n",
    " \n",
    "                     p1.withdraw(wamount)\n",
    "         else ch==2:\n",
    "                    damount=int(input(\"Enter amount to deposite..\"))\n",
    "                    p1.deposit(damount)\n",
    "        elif:\n",
    "              print(\"Thank you come again...\")\n",
    "              break"
   ]
  },
  {
   "cell_type": "code",
   "execution_count": null,
   "id": "d9384543",
   "metadata": {},
   "outputs": [],
   "source": []
  },
  {
   "cell_type": "code",
   "execution_count": null,
   "id": "f108f4a7",
   "metadata": {},
   "outputs": [],
   "source": []
  }
 ],
 "metadata": {
  "kernelspec": {
   "display_name": "Python 3 (ipykernel)",
   "language": "python",
   "name": "python3"
  },
  "language_info": {
   "codemirror_mode": {
    "name": "ipython",
    "version": 3
   },
   "file_extension": ".py",
   "mimetype": "text/x-python",
   "name": "python",
   "nbconvert_exporter": "python",
   "pygments_lexer": "ipython3",
   "version": "3.9.7"
  }
 },
 "nbformat": 4,
 "nbformat_minor": 5
}

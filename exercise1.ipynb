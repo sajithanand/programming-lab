{
 "cells": [
  {
   "cell_type": "code",
   "execution_count": 1,
   "metadata": {},
   "outputs": [
    {
     "name": "stdout",
     "output_type": "stream",
     "text": [
      "enter the side of the square455\n",
      "the area of the square is 207025\n"
     ]
    }
   ],
   "source": [
    "#to find the area of square\n",
    "s=int(input(\"enter the side of the square\"))\n",
    "sq=s*s\n",
    "print(\"the area of the square is\",sq)"
   ]
  },
  {
   "cell_type": "code",
   "execution_count": 2,
   "metadata": {},
   "outputs": [
    {
     "name": "stdout",
     "output_type": "stream",
     "text": [
      "enter the base of right angled triangle:4\n",
      "enter the height of right angled triangle:5\n",
      "area of right angled triangle: 10.0\n"
     ]
    }
   ],
   "source": [
    "#to find the area of right angled triangle\n",
    "b=int(input(\"enter the base of right angled triangle:\"))\n",
    "h=int(input(\"enter the height of right angled triangle:\"))\n",
    "area=0.5*b*h\n",
    "print(\"area of right angled triangle:\",area)"
   ]
  },
  {
   "cell_type": "code",
   "execution_count": 3,
   "metadata": {},
   "outputs": [
    {
     "name": "stdout",
     "output_type": "stream",
     "text": [
      "enter your name anand\n",
      "hello! anand\n"
     ]
    }
   ],
   "source": [
    "#greet the user by printing the word hello\n",
    "n=(input(\"enter your name \"))\n",
    "print(\"hello!\",n)"
   ]
  },
  {
   "cell_type": "code",
   "execution_count": 4,
   "metadata": {},
   "outputs": [
    {
     "name": "stdout",
     "output_type": "stream",
     "text": [
      "enter a number5\n",
      "4 5 6\n"
     ]
    }
   ],
   "source": [
    "n=int(input(\"enter a number\"))\n",
    "print(n-1,n,n+1)"
   ]
  },
  {
   "cell_type": "code",
   "execution_count": 5,
   "metadata": {},
   "outputs": [
    {
     "name": "stdout",
     "output_type": "stream",
     "text": [
      "enter the principal amount70000\n",
      "enter the no of years5\n",
      "enter the rate of interest0.6\n",
      "the simple interest is 2100.0\n"
     ]
    }
   ],
   "source": [
    "p=int(input(\"enter the principal amount\"))\n",
    "t=int(input(\"enter the no of years\"))\n",
    "r=float(input(\"enter the rate of interest\"))\n",
    "si=(p*t*r)/100\n",
    "print(\"the simple interest is\",si)"
   ]
  },
  {
   "cell_type": "code",
   "execution_count": null,
   "metadata": {
    "collapsed": true
   },
   "outputs": [],
   "source": []
  }
 ],
 "metadata": {
  "kernelspec": {
   "display_name": "Python 3",
   "language": "python",
   "name": "python3"
  },
  "language_info": {
   "codemirror_mode": {
    "name": "ipython",
    "version": 3
   },
   "file_extension": ".py",
   "mimetype": "text/x-python",
   "name": "python",
   "nbconvert_exporter": "python",
   "pygments_lexer": "ipython3",
   "version": "3.6.9"
  }
 },
 "nbformat": 4,
 "nbformat_minor": 2
}

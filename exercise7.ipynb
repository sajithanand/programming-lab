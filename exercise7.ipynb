{
 "cells": [
  {
   "cell_type": "code",
   "execution_count": 3,
   "metadata": {
    "scrolled": true
   },
   "outputs": [
    {
     "name": "stdout",
     "output_type": "stream",
     "text": [
      "enter some coma separated integars:2,22,222,2222\n",
      "the required list is: [2, 22, 'over', 'over']\n"
     ]
    }
   ],
   "source": [
    "#python program to write 2exceeding 100 to \"over\"\n",
    "l=list(map(int,input(\"enter some coma separated integars:\").split(\",\")))\n",
    "for i in range(len(l)):\n",
    "    if l[i]>100:\n",
    "        l[i]=\"over\"\n",
    "print(\"the required list is:\",l)"
   ]
  },
  {
   "cell_type": "code",
   "execution_count": 4,
   "metadata": {},
   "outputs": [
    {
     "name": "stdout",
     "output_type": "stream",
     "text": [
      "enter some coma separated names:anand,abin,sanan\n",
      "number of occurences of n in anand is 2\n",
      "number of occurences of n in abin is 1\n",
      "number of occurences of n in sanan is 2\n",
      "total number of occurences of n in list is: 5\n"
     ]
    }
   ],
   "source": [
    "#python program to find 3number of occurence of n in list of names\n",
    "name=input(\"enter some coma separated names:\")\n",
    "l=name.split(\",\")\n",
    "t=0\n",
    "for i in l:\n",
    "    print(\"number of occurences of n in\",i,\"is\",i.count(\"n\"))\n",
    "    t=t+i.count(\"n\")\n",
    "print(\"total number of occurences of n in list is:\",t)"
   ]
  },
  {
   "cell_type": "code",
   "execution_count": 5,
   "metadata": {},
   "outputs": [
    {
     "name": "stdout",
     "output_type": "stream",
     "text": [
      "enter some coma separated integrs for list1:1,2,3\n",
      "enter some coma separated integrs for list2:4,5,6\n",
      "both the lists have same length and the length is: 3\n",
      "both the lists have different sum of elements...\n",
      "nothing common in both lists...\n"
     ]
    }
   ],
   "source": [
    "#python program for some list operations\n",
    "l1=list(map(int,input(\"enter some coma separated integrs for list1:\").split(\",\")))\n",
    "l2=list(map(int,input(\"enter some coma separated integrs for list2:\").split(\",\")))\n",
    "if len(l1)!=len(l2):\n",
    "    print(\"the entered lists are different size\")\n",
    "else:\n",
    "    print(\"both the lists have same length and the length is:\",len(l1))\n",
    "if(sum(l1)==sum(l2)):\n",
    "    print(\"both the lists have same sum and the sum is:\",sum(l1))\n",
    "else:\n",
    "    print(\"both the lists have different sum of elements...\")\n",
    "    \n",
    "k=[i for i in l1 if i in l2]\n",
    "if len(k)!=0:\n",
    "    print(\"same members are:\",k)\n",
    "else:\n",
    "    print(\"nothing common in both lists...\")"
   ]
  },
  {
   "cell_type": "code",
   "execution_count": 6,
   "metadata": {},
   "outputs": [
    {
     "name": "stdout",
     "output_type": "stream",
     "text": [
      "enter some coma separated integars:1,2,-3,5,-9,8,6\n",
      "the required list of odd elements is: [1, -3, 5, -9]\n"
     ]
    }
   ],
   "source": [
    "#python program for separating odd integars from list of integars\n",
    "l=list(map(int,input(\"enter some coma separated integars:\").split(\",\")))\n",
    "r=[x for x in l if(x%2!=0)]\n",
    "print(\"the required list of odd elements is:\",r)"
   ]
  },
  {
   "cell_type": "code",
   "execution_count": 7,
   "metadata": {},
   "outputs": [
    {
     "name": "stdout",
     "output_type": "stream",
     "text": [
      "enter any word:bat\n",
      "['b', 'a', 't']\n",
      "the required list of ordinal values of characters of entered word is: [98, 97, 116]\n"
     ]
    }
   ],
   "source": [
    "#python program to write ordinal values of characters of a word\n",
    "word=input(\"enter any word:\")\n",
    "l=list(word)\n",
    "print(l)\n",
    "o=[ord(x) for x in l]\n",
    "print(\"the required list of ordinal values of characters of entered word is:\",o)"
   ]
  },
  {
   "cell_type": "code",
   "execution_count": 8,
   "metadata": {},
   "outputs": [
    {
     "name": "stdout",
     "output_type": "stream",
     "text": [
      "enter some coma separated list of integars:2,-3,5,-7,8\n",
      "the list of positive values is: [2, 5, 8]\n"
     ]
    }
   ],
   "source": [
    "#python program to find positive list of numbers from given list of integars\n",
    "l=list(map(int,input(\"enter some coma separated list of integars:\").split(\",\")))\n",
    "rest=[x for x in l if x>0]\n",
    "print(\"the list of positive values is:\",rest)"
   ]
  },
  {
   "cell_type": "code",
   "execution_count": 9,
   "metadata": {},
   "outputs": [
    {
     "name": "stdout",
     "output_type": "stream",
     "text": [
      "enter some coma separated list of integars:2,4,6,8\n",
      "the result list of squares is: [4, 16, 36, 64]\n"
     ]
    }
   ],
   "source": [
    "#python program to find square of n numbers\n",
    "l=list(map(int,input(\"enter some coma separated list of integars:\").split(\",\")))\n",
    "rest=[x*x for x in l]\n",
    "print(\"the result list of squares is:\",rest)"
   ]
  },
  {
   "cell_type": "code",
   "execution_count": 10,
   "metadata": {},
   "outputs": [
    {
     "name": "stdout",
     "output_type": "stream",
     "text": [
      "enter a word:sachin\n",
      "the result list of vowels is: ['a', 'i']\n"
     ]
    }
   ],
   "source": [
    "#python program to find vowels of a given word\n",
    "w=input(\"enter a word:\")\n",
    "rest=[]\n",
    "rest=[x for x in w if x in ['a','e','i','o','u','A','E','I','O','U']]\n",
    "temp=[]\n",
    "for i in rest:\n",
    "    if i not in temp:\n",
    "        temp.append(i)\n",
    "print(\"the result list of vowels is:\",temp)"
   ]
  },
  {
   "cell_type": "code",
   "execution_count": 11,
   "metadata": {},
   "outputs": [
    {
     "name": "stdout",
     "output_type": "stream",
     "text": [
      "enter the number of elements:3\n",
      "enter key: 1\n",
      "enter value:100\n",
      "enter key: 2\n",
      "enter value:200\n",
      "enter key: 3\n",
      "enter value:300\n",
      "the dictionary values in ascending order: ['100', '200', '300']\n",
      "the dictionary values in descending order: ['300', '200', '100']\n"
     ]
    }
   ],
   "source": [
    "#python program to sort a dictionary\n",
    "d={}\n",
    "l={}\n",
    "n=int(input(\"enter the number of elements:\"))\n",
    "for i in range(n):\n",
    "    key=input(\"enter key: \")\n",
    "    value=input(\"enter value:\")\n",
    "    d.update({key:value})\n",
    "l=sorted(d.values())\n",
    "l2=sorted(d.values(),reverse=True)\n",
    "\n",
    "print(\"the dictionary values in ascending order:\",l[0:])\n",
    "print(\"the dictionary values in descending order:\",l2)\n"
   ]
  },
  {
   "cell_type": "code",
   "execution_count": 12,
   "metadata": {},
   "outputs": [
    {
     "name": "stdout",
     "output_type": "stream",
     "text": [
      "enter the no of elements in dictionary 1:3\n",
      "enter the key:1\n",
      "enter value:100\n",
      "enter the key:2\n",
      "enter value:200\n",
      "enter the key:3\n",
      "enter value:300\n",
      "enter the number of elements of dictionary 2:2\n",
      "enter key:10\n",
      "enter value:500\n",
      "enter key:11\n",
      "enter value:600\n",
      "the merged dictionary is: {'1': '100', '2': '200', '3': '300', '10': '500', '11': '600'}\n"
     ]
    }
   ],
   "source": [
    "#python program to merge two dictionaries\n",
    "d1={}\n",
    "d2={}\n",
    "d3={}\n",
    "n1=int(input(\"enter the no of elements in dictionary 1:\"))\n",
    "for i in range(n1):\n",
    "    key=input(\"enter the key:\")\n",
    "    value=input(\"enter value:\")\n",
    "    d1.update({key:value})\n",
    "    \n",
    "n2=int(input(\"enter the number of elements of dictionary 2:\"))\n",
    "for i in range(n2):\n",
    "    k=input(\"enter key:\")\n",
    "    v=input(\"enter value:\")\n",
    "    d2.update({k:v})\n",
    "    \n",
    "d3.update(d1)\n",
    "d3.update(d2)\n",
    " \n",
    "print(\"the merged dictionary is:\",d3)"
   ]
  },
  {
   "cell_type": "code",
   "execution_count": 13,
   "metadata": {},
   "outputs": [
    {
     "name": "stdout",
     "output_type": "stream",
     "text": [
      "enter a list of color with comma separated:violet,orange,black,red\n",
      "enter a list of color with comma separated:violet,yellow,green\n",
      "color with present in 1st list and only in first= {'black', 'red', 'orange'}\n"
     ]
    }
   ],
   "source": [
    "#python program to add colors in list1 not in list2\n",
    "c1=list(map(str,input(\"enter a list of color with comma separated:\").split(\",\")))\n",
    "c2=list(map(str,input(\"enter a list of color with comma separated:\").split(\",\")))\n",
    "a=set(c1+c2)\n",
    "[x for x in a if x in c1]\n",
    "c=set(a-set(c2))\n",
    "print(\"color with present in 1st list and only in first=\",c)"
   ]
  },
  {
   "cell_type": "code",
   "execution_count": null,
   "metadata": {
    "collapsed": true
   },
   "outputs": [],
   "source": []
  }
 ],
 "metadata": {
  "kernelspec": {
   "display_name": "Python 3",
   "language": "python",
   "name": "python3"
  },
  "language_info": {
   "codemirror_mode": {
    "name": "ipython",
    "version": 3
   },
   "file_extension": ".py",
   "mimetype": "text/x-python",
   "name": "python",
   "nbconvert_exporter": "python",
   "pygments_lexer": "ipython3",
   "version": "3.6.9"
  }
 },
 "nbformat": 4,
 "nbformat_minor": 2
}

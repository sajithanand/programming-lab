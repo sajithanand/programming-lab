{
 "cells": [
  {
   "cell_type": "code",
   "execution_count": 1,
   "metadata": {},
   "outputs": [
    {
     "name": "stdout",
     "output_type": "stream",
     "text": [
      "enter the string:anand\n",
      "swapped string: dnana\n"
     ]
    }
   ],
   "source": [
    "#python programme to change a string to a new string\n",
    "str=input(\"enter the string:\")\n",
    "l=len(str)\n",
    "n=str[l-1]+str[1:l-1]+str[-l]\n",
    "print(\"swapped string:\",n)"
   ]
  },
  {
   "cell_type": "code",
   "execution_count": 2,
   "metadata": {},
   "outputs": [
    {
     "name": "stdout",
     "output_type": "stream",
     "text": [
      "enter the string:india\n",
      "new string is: inia\n"
     ]
    }
   ],
   "source": [
    "#python programme to get a string made of the first 2 and the last 2 char from a string\n",
    "str=(input(\"enter the string:\"))\n",
    "l=len(str)\n",
    "n=str[-l:2]+str[-2:l]\n",
    "print(\"new string is:\",n)\n"
   ]
  },
  {
   "cell_type": "code",
   "execution_count": 1,
   "metadata": {},
   "outputs": [
    {
     "name": "stdout",
     "output_type": "stream",
     "text": [
      "enter the first string:good\n",
      "enter the second string:morning\n",
      "new string is: mood  gorning\n"
     ]
    }
   ],
   "source": [
    "#python programme to get a single string from two given strings\n",
    "str=(input(\"enter the first string:\"))\n",
    "str1=(input(\"enter the second string:\"))\n",
    "l=len(str)\n",
    "n=len(str1)\n",
    "m=str1[0:2]+str[2:]+\"  \"+str[0:2]+str1[2:]\n",
    "print(\"new string is:\",m)"
   ]
  },
  {
   "cell_type": "code",
   "execution_count": 5,
   "metadata": {},
   "outputs": [
    {
     "name": "stdout",
     "output_type": "stream",
     "text": [
      "enter a string:cricket\n",
      "the result is: cri$ket\n"
     ]
    }
   ],
   "source": [
    "#python programme to change specified character except first\n",
    "str=input(\"enter a string:\")\n",
    "n=str.replace(str[0],\"$\")\n",
    "str1=str[0]+n[1:(len(n))]\n",
    "print(\"the result is:\",str1)"
   ]
  },
  {
   "cell_type": "code",
   "execution_count": null,
   "metadata": {
    "collapsed": true
   },
   "outputs": [],
   "source": []
  }
 ],
 "metadata": {
  "kernelspec": {
   "display_name": "Python 3",
   "language": "python",
   "name": "python3"
  },
  "language_info": {
   "codemirror_mode": {
    "name": "ipython",
    "version": 3
   },
   "file_extension": ".py",
   "mimetype": "text/x-python",
   "name": "python",
   "nbconvert_exporter": "python",
   "pygments_lexer": "ipython3",
   "version": "3.6.9"
  }
 },
 "nbformat": 4,
 "nbformat_minor": 2
}

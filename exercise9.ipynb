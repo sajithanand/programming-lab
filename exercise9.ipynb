{
 "cells": [
  {
   "cell_type": "code",
   "execution_count": 2,
   "metadata": {},
   "outputs": [
    {
     "name": "stdout",
     "output_type": "stream",
     "text": [
      "enter some coma separated words:cricket,football,table tennis,volleyball\n",
      "the length of longest word is : 12\n"
     ]
    }
   ],
   "source": [
    "#python program to find the length of longest word\n",
    "l1=[]\n",
    "str1=input(\"enter some coma separated words:\")\n",
    "l=str1.split(\",\")\n",
    "for i in l:\n",
    "    l1.append(len(i))\n",
    "print(\"the length of longest word is :\",max(l1))"
   ]
  },
  {
   "cell_type": "code",
   "execution_count": 9,
   "metadata": {},
   "outputs": [
    {
     "name": "stdout",
     "output_type": "stream",
     "text": [
      "enter a word:wing\n",
      "the word before formating is: wing\n",
      "the formated word is: wingly\n"
     ]
    }
   ],
   "source": [
    "#python program to add ing at the end of a given string\n",
    "word=input(\"enter a word:\")\n",
    "print(\"the word before formating is:\",word)\n",
    "str1=word[-3:]+word[-2]+word[-1]\n",
    "str1=word[-3:]\n",
    "if str1=='ing':\n",
    "    word=word+\"ly\"\n",
    "else:\n",
    "    word=word+\"ing\"\n",
    "print(\"the formated word is:\",word)\n"
   ]
  },
  {
   "cell_type": "code",
   "execution_count": 9,
   "metadata": {},
   "outputs": [
    {
     "name": "stdout",
     "output_type": "stream",
     "text": [
      "enter a 4 digit lower range:2001\n",
      "enter a 4 digit higher range:9999\n",
      "the required list is: [4624, 6084, 6400, 8464]\n"
     ]
    }
   ],
   "source": [
    "#python program to generate a 4 digit number and the number is a perfect square\n",
    "#l=list(map(int,input(\"enter some coma separated 4 digit number:\")))\n",
    "import math\n",
    "n1=int(input(\"enter a 4 digit lower range:\"))\n",
    "n2=int(input(\"enter a 4 digit higher range:\"))\n",
    "\n",
    "l=[]\n",
    "x=0\n",
    "for i in range(n1,n2):\n",
    "    x=i\n",
    "    while x!=0:\n",
    "        k1=x%10\n",
    "        x=int(x/10)\n",
    "        k2=x%10\n",
    "        x=int(x/10)\n",
    "        k3=x%10\n",
    "        x=int(x/10)\n",
    "        k4=x%10\n",
    "        x=int(x/10)\n",
    "        sq=int(math.sqrt(i))\n",
    "        if sq*sq==i:\n",
    "            if k1%2==0 and k2%2==0 and k3%2==0 and k4%2==0:\n",
    "                l.append(i)\n",
    "                \n",
    "print(\"the required list is:\",l)"
   ]
  },
  {
   "cell_type": "code",
   "execution_count": null,
   "metadata": {},
   "outputs": [
    {
     "name": "stdout",
     "output_type": "stream",
     "text": [
      "\n",
      "1.SQUARE\n",
      "2.RECTANGLE\n",
      "3.TRIANGLE\n",
      "4.EXIT\n",
      "enter any option:1\n",
      "enter side:5\n",
      "area of square is: 25\n",
      "\n",
      "1.SQUARE\n",
      "2.RECTANGLE\n",
      "3.TRIANGLE\n",
      "4.EXIT\n",
      "enter any option:2\n",
      "enter length:6\n",
      "enter breadth:7\n",
      "area of RECTANGLE is: 42\n",
      "\n",
      "1.SQUARE\n",
      "2.RECTANGLE\n",
      "3.TRIANGLE\n",
      "4.EXIT\n",
      "enter any option:3\n",
      "enter first side:4\n",
      "enter second side :7\n",
      "enter third state:2\n",
      "area of TRIANGLE is: (3.702531804508037e-16+6.046693311223912j)\n",
      "\n",
      "1.SQUARE\n",
      "2.RECTANGLE\n",
      "3.TRIANGLE\n",
      "4.EXIT\n",
      "enter any option:4\n",
      "EXITING...\n",
      "\n",
      "1.SQUARE\n",
      "2.RECTANGLE\n",
      "3.TRIANGLE\n",
      "4.EXIT\n"
     ]
    }
   ],
   "source": [
    "#python program to find the area of square,rectangle and triangle using lambda function\n",
    "sarea=lambda a:a*a\n",
    "rarea=lambda a,b:a*b\n",
    "tarea=lambda a,b,c,s:(s*(s-a)*(s-b)*(s-c))**0.5\n",
    "\n",
    "while(1):\n",
    "    print(\"\\n1.SQUARE\\n2.RECTANGLE\\n3.TRIANGLE\\n4.EXIT\")\n",
    "    ch=int(input(\"enter any option:\"))\n",
    "    if ch==1:\n",
    "        a=int(input(\"enter side:\"))\n",
    "        print(\"area of square is:\",sarea(a))\n",
    "    elif ch==2:\n",
    "        a=int(input(\"enter length:\"))\n",
    "        b=int(input(\"enter breadth:\"))\n",
    "        print(\"area of RECTANGLE is:\",rarea(a,b))\n",
    "        \n",
    "    elif ch==3:\n",
    "        a=int(input(\"enter first side:\"))\n",
    "        b=int(input(\"enter second side :\"))\n",
    "        c=int(input(\"enter third state:\"))\n",
    "        s=(a+b+c)/2\n",
    "        print(\"area of TRIANGLE is:\",tarea(a,b,c,s))\n",
    "    else:\n",
    "        print(\"EXITING...\")"
   ]
  },
  {
   "cell_type": "code",
   "execution_count": null,
   "metadata": {
    "collapsed": true
   },
   "outputs": [],
   "source": []
  }
 ],
 "metadata": {
  "kernelspec": {
   "display_name": "Python 3",
   "language": "python",
   "name": "python3"
  },
  "language_info": {
   "codemirror_mode": {
    "name": "ipython",
    "version": 3
   },
   "file_extension": ".py",
   "mimetype": "text/x-python",
   "name": "python",
   "nbconvert_exporter": "python",
   "pygments_lexer": "ipython3",
   "version": "3.6.9"
  }
 },
 "nbformat": 4,
 "nbformat_minor": 2
}
